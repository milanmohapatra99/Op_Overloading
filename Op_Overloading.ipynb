{
 "cells": [
  {
   "cell_type": "code",
   "execution_count": 4,
   "id": "bc69b5b1",
   "metadata": {},
   "outputs": [
    {
     "name": "stdout",
     "output_type": "stream",
     "text": [
      "Lets add\n",
      "10\n"
     ]
    }
   ],
   "source": [
    "class Number:\n",
    "    def __init__(self,num):\n",
    "        self.num = num\n",
    "    def __add__(self,num2):\n",
    "        print(\"Lets add\")\n",
    "        return self.num + num2.num\n",
    "n1 = Number(4)\n",
    "n2 = Number(6) \n",
    "sum = n1 + n2\n",
    "print(sum)        "
   ]
  },
  {
   "cell_type": "code",
   "execution_count": 5,
   "id": "82cf43bb",
   "metadata": {},
   "outputs": [
    {
     "name": "stdout",
     "output_type": "stream",
     "text": [
      "Lets multiply\n",
      "24\n"
     ]
    }
   ],
   "source": [
    "class Number:\n",
    "    def __init__(self,num):\n",
    "        self.num = num\n",
    "    def __mul__(self,num2):\n",
    "        print(\"Lets multiply\")\n",
    "        return self.num * num2.num\n",
    "n1 = Number(4)\n",
    "n2 = Number(6) \n",
    "mul = n1 * n2\n",
    "print(mul)        "
   ]
  },
  {
   "cell_type": "code",
   "execution_count": 11,
   "id": "ee3bd22e",
   "metadata": {},
   "outputs": [
    {
     "name": "stdout",
     "output_type": "stream",
     "text": [
      "Enter Number1:-8\n",
      "Enter number2:-2\n",
      "6\n"
     ]
    }
   ],
   "source": [
    "class Number:\n",
    "    def __init__(self,num):\n",
    "        self.num = num\n",
    "    def __sub__(self,num2):\n",
    "        print(\"Lets Substract\")\n",
    "        return self.num - num2.num\n",
    "n1 = int(input(\"Enter Number1:-\"))\n",
    "n2 = int(input(\"Enter number2:-\")) \n",
    "Number(n1)\n",
    "Number(n2)\n",
    "sub = n1 - n2\n",
    "print(sub)        "
   ]
  },
  {
   "cell_type": "code",
   "execution_count": null,
   "id": "299b58af",
   "metadata": {},
   "outputs": [],
   "source": []
  }
 ],
 "metadata": {
  "kernelspec": {
   "display_name": "Python 3 (ipykernel)",
   "language": "python",
   "name": "python3"
  },
  "language_info": {
   "codemirror_mode": {
    "name": "ipython",
    "version": 3
   },
   "file_extension": ".py",
   "mimetype": "text/x-python",
   "name": "python",
   "nbconvert_exporter": "python",
   "pygments_lexer": "ipython3",
   "version": "3.9.7"
  }
 },
 "nbformat": 4,
 "nbformat_minor": 5
}
